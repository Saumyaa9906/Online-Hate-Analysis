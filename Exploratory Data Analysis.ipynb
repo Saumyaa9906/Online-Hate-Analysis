{
 "cells": [
  {
   "cell_type": "code",
   "execution_count": 1,
   "id": "robust-advancement",
   "metadata": {},
   "outputs": [],
   "source": [
    "import pandas as pd\n",
    "import numpy as np\n",
    "import warnings\n",
    "import datetime\n",
    "import re\n",
    "import emoji\n",
    "\n",
    "warnings.filterwarnings(\"ignore\")"
   ]
  },
  {
   "cell_type": "code",
   "execution_count": 2,
   "id": "brave-playback",
   "metadata": {},
   "outputs": [],
   "source": [
    "tweets_df = pd.read_csv('snsusers_tweets.csv')"
   ]
  },
  {
   "cell_type": "code",
   "execution_count": 3,
   "id": "cooked-mississippi",
   "metadata": {},
   "outputs": [
    {
     "data": {
      "text/html": [
       "<div>\n",
       "<style scoped>\n",
       "    .dataframe tbody tr th:only-of-type {\n",
       "        vertical-align: middle;\n",
       "    }\n",
       "\n",
       "    .dataframe tbody tr th {\n",
       "        vertical-align: top;\n",
       "    }\n",
       "\n",
       "    .dataframe thead th {\n",
       "        text-align: right;\n",
       "    }\n",
       "</style>\n",
       "<table border=\"1\" class=\"dataframe\">\n",
       "  <thead>\n",
       "    <tr style=\"text-align: right;\">\n",
       "      <th></th>\n",
       "      <th>date</th>\n",
       "      <th>renderedContent</th>\n",
       "      <th>tweetId</th>\n",
       "      <th>userId</th>\n",
       "      <th>replyCount</th>\n",
       "      <th>retweetCount</th>\n",
       "      <th>likeCount</th>\n",
       "      <th>quoteCount</th>\n",
       "      <th>media</th>\n",
       "      <th>quotedTweet</th>\n",
       "      <th>mentionedUsers</th>\n",
       "      <th>lang</th>\n",
       "    </tr>\n",
       "  </thead>\n",
       "  <tbody>\n",
       "    <tr>\n",
       "      <th>0</th>\n",
       "      <td>2021-05-29 00:53:33+00:00</td>\n",
       "      <td>@TETEPROTECT0R he’s jinjja uwu~~😞</td>\n",
       "      <td>1398442352868462596</td>\n",
       "      <td>1225094973948878853</td>\n",
       "      <td>1</td>\n",
       "      <td>0</td>\n",
       "      <td>1</td>\n",
       "      <td>0</td>\n",
       "      <td>NaN</td>\n",
       "      <td>NaN</td>\n",
       "      <td>[{'_type': 'snscrape.modules.twitter.User', 'u...</td>\n",
       "      <td>Indonesian</td>\n",
       "    </tr>\n",
       "    <tr>\n",
       "      <th>1</th>\n",
       "      <td>2021-05-28 23:54:38+00:00</td>\n",
       "      <td>@J4MAlSVU_ @yeoyxy @vminkookurz yes coz even s...</td>\n",
       "      <td>1398427525844549633</td>\n",
       "      <td>1225094973948878853</td>\n",
       "      <td>5</td>\n",
       "      <td>2</td>\n",
       "      <td>2</td>\n",
       "      <td>11</td>\n",
       "      <td>NaN</td>\n",
       "      <td>NaN</td>\n",
       "      <td>[{'_type': 'snscrape.modules.twitter.User', 'u...</td>\n",
       "      <td>English</td>\n",
       "    </tr>\n",
       "    <tr>\n",
       "      <th>2</th>\n",
       "      <td>2021-05-28 22:06:12+00:00</td>\n",
       "      <td>@jnkstigmaa chan outsold https://t.co/A5jMzyqVvZ</td>\n",
       "      <td>1398400240173076481</td>\n",
       "      <td>1225094973948878853</td>\n",
       "      <td>1</td>\n",
       "      <td>0</td>\n",
       "      <td>0</td>\n",
       "      <td>1</td>\n",
       "      <td>[{'_type': 'snscrape.modules.twitter.Photo', '...</td>\n",
       "      <td>NaN</td>\n",
       "      <td>[{'_type': 'snscrape.modules.twitter.User', 'u...</td>\n",
       "      <td>English</td>\n",
       "    </tr>\n",
       "    <tr>\n",
       "      <th>3</th>\n",
       "      <td>2021-05-28 22:03:53+00:00</td>\n",
       "      <td>@jnkstigmaa EXCUSE MEEEEE&amp;amp;:):&amp;amp;):£: i a...</td>\n",
       "      <td>1398399655533236232</td>\n",
       "      <td>1225094973948878853</td>\n",
       "      <td>1</td>\n",
       "      <td>0</td>\n",
       "      <td>0</td>\n",
       "      <td>0</td>\n",
       "      <td>NaN</td>\n",
       "      <td>NaN</td>\n",
       "      <td>[{'_type': 'snscrape.modules.twitter.User', 'u...</td>\n",
       "      <td>English</td>\n",
       "    </tr>\n",
       "    <tr>\n",
       "      <th>4</th>\n",
       "      <td>2021-05-28 22:02:39+00:00</td>\n",
       "      <td>@jnkstigmaa gottem mad https://t.co/RncbakBowH</td>\n",
       "      <td>1398399345356165122</td>\n",
       "      <td>1225094973948878853</td>\n",
       "      <td>1</td>\n",
       "      <td>0</td>\n",
       "      <td>0</td>\n",
       "      <td>0</td>\n",
       "      <td>[{'_type': 'snscrape.modules.twitter.Gif', 'th...</td>\n",
       "      <td>NaN</td>\n",
       "      <td>[{'_type': 'snscrape.modules.twitter.User', 'u...</td>\n",
       "      <td>English</td>\n",
       "    </tr>\n",
       "  </tbody>\n",
       "</table>\n",
       "</div>"
      ],
      "text/plain": [
       "                        date  \\\n",
       "0  2021-05-29 00:53:33+00:00   \n",
       "1  2021-05-28 23:54:38+00:00   \n",
       "2  2021-05-28 22:06:12+00:00   \n",
       "3  2021-05-28 22:03:53+00:00   \n",
       "4  2021-05-28 22:02:39+00:00   \n",
       "\n",
       "                                     renderedContent              tweetId  \\\n",
       "0                  @TETEPROTECT0R he’s jinjja uwu~~😞  1398442352868462596   \n",
       "1  @J4MAlSVU_ @yeoyxy @vminkookurz yes coz even s...  1398427525844549633   \n",
       "2   @jnkstigmaa chan outsold https://t.co/A5jMzyqVvZ  1398400240173076481   \n",
       "3  @jnkstigmaa EXCUSE MEEEEE&amp;:):&amp;):£: i a...  1398399655533236232   \n",
       "4     @jnkstigmaa gottem mad https://t.co/RncbakBowH  1398399345356165122   \n",
       "\n",
       "                userId  replyCount  retweetCount  likeCount  quoteCount  \\\n",
       "0  1225094973948878853           1             0          1           0   \n",
       "1  1225094973948878853           5             2          2          11   \n",
       "2  1225094973948878853           1             0          0           1   \n",
       "3  1225094973948878853           1             0          0           0   \n",
       "4  1225094973948878853           1             0          0           0   \n",
       "\n",
       "                                               media quotedTweet  \\\n",
       "0                                                NaN         NaN   \n",
       "1                                                NaN         NaN   \n",
       "2  [{'_type': 'snscrape.modules.twitter.Photo', '...         NaN   \n",
       "3                                                NaN         NaN   \n",
       "4  [{'_type': 'snscrape.modules.twitter.Gif', 'th...         NaN   \n",
       "\n",
       "                                      mentionedUsers        lang  \n",
       "0  [{'_type': 'snscrape.modules.twitter.User', 'u...  Indonesian  \n",
       "1  [{'_type': 'snscrape.modules.twitter.User', 'u...     English  \n",
       "2  [{'_type': 'snscrape.modules.twitter.User', 'u...     English  \n",
       "3  [{'_type': 'snscrape.modules.twitter.User', 'u...     English  \n",
       "4  [{'_type': 'snscrape.modules.twitter.User', 'u...     English  "
      ]
     },
     "execution_count": 3,
     "metadata": {},
     "output_type": "execute_result"
    }
   ],
   "source": [
    "tweets_df.head()"
   ]
  },
  {
   "cell_type": "code",
   "execution_count": 4,
   "id": "accomplished-stamp",
   "metadata": {},
   "outputs": [],
   "source": [
    "tweets_df['date'] = pd.to_datetime(tweets_df['date'])"
   ]
  },
  {
   "cell_type": "code",
   "execution_count": 5,
   "id": "balanced-projector",
   "metadata": {},
   "outputs": [],
   "source": [
    "tweets_df['year'] = tweets_df['date'].dt.year\n",
    "tweets_df['month'] = tweets_df['date'].dt.month"
   ]
  },
  {
   "cell_type": "code",
   "execution_count": 6,
   "id": "laughing-advancement",
   "metadata": {},
   "outputs": [],
   "source": [
    "tweets_df['date'] = tweets_df['date'].dt.strftime('%Y-%m-%d')"
   ]
  },
  {
   "cell_type": "code",
   "execution_count": 7,
   "id": "double-young",
   "metadata": {},
   "outputs": [
    {
     "data": {
      "text/html": [
       "<div>\n",
       "<style scoped>\n",
       "    .dataframe tbody tr th:only-of-type {\n",
       "        vertical-align: middle;\n",
       "    }\n",
       "\n",
       "    .dataframe tbody tr th {\n",
       "        vertical-align: top;\n",
       "    }\n",
       "\n",
       "    .dataframe thead th {\n",
       "        text-align: right;\n",
       "    }\n",
       "</style>\n",
       "<table border=\"1\" class=\"dataframe\">\n",
       "  <thead>\n",
       "    <tr style=\"text-align: right;\">\n",
       "      <th></th>\n",
       "      <th>date</th>\n",
       "      <th>renderedContent</th>\n",
       "      <th>tweetId</th>\n",
       "      <th>userId</th>\n",
       "      <th>replyCount</th>\n",
       "      <th>retweetCount</th>\n",
       "      <th>likeCount</th>\n",
       "      <th>quoteCount</th>\n",
       "      <th>media</th>\n",
       "      <th>quotedTweet</th>\n",
       "      <th>mentionedUsers</th>\n",
       "      <th>lang</th>\n",
       "      <th>year</th>\n",
       "      <th>month</th>\n",
       "    </tr>\n",
       "  </thead>\n",
       "  <tbody>\n",
       "    <tr>\n",
       "      <th>0</th>\n",
       "      <td>2021-05-29</td>\n",
       "      <td>@TETEPROTECT0R he’s jinjja uwu~~😞</td>\n",
       "      <td>1398442352868462596</td>\n",
       "      <td>1225094973948878853</td>\n",
       "      <td>1</td>\n",
       "      <td>0</td>\n",
       "      <td>1</td>\n",
       "      <td>0</td>\n",
       "      <td>NaN</td>\n",
       "      <td>NaN</td>\n",
       "      <td>[{'_type': 'snscrape.modules.twitter.User', 'u...</td>\n",
       "      <td>Indonesian</td>\n",
       "      <td>2021</td>\n",
       "      <td>5</td>\n",
       "    </tr>\n",
       "    <tr>\n",
       "      <th>1</th>\n",
       "      <td>2021-05-28</td>\n",
       "      <td>@J4MAlSVU_ @yeoyxy @vminkookurz yes coz even s...</td>\n",
       "      <td>1398427525844549633</td>\n",
       "      <td>1225094973948878853</td>\n",
       "      <td>5</td>\n",
       "      <td>2</td>\n",
       "      <td>2</td>\n",
       "      <td>11</td>\n",
       "      <td>NaN</td>\n",
       "      <td>NaN</td>\n",
       "      <td>[{'_type': 'snscrape.modules.twitter.User', 'u...</td>\n",
       "      <td>English</td>\n",
       "      <td>2021</td>\n",
       "      <td>5</td>\n",
       "    </tr>\n",
       "    <tr>\n",
       "      <th>2</th>\n",
       "      <td>2021-05-28</td>\n",
       "      <td>@jnkstigmaa chan outsold https://t.co/A5jMzyqVvZ</td>\n",
       "      <td>1398400240173076481</td>\n",
       "      <td>1225094973948878853</td>\n",
       "      <td>1</td>\n",
       "      <td>0</td>\n",
       "      <td>0</td>\n",
       "      <td>1</td>\n",
       "      <td>[{'_type': 'snscrape.modules.twitter.Photo', '...</td>\n",
       "      <td>NaN</td>\n",
       "      <td>[{'_type': 'snscrape.modules.twitter.User', 'u...</td>\n",
       "      <td>English</td>\n",
       "      <td>2021</td>\n",
       "      <td>5</td>\n",
       "    </tr>\n",
       "    <tr>\n",
       "      <th>3</th>\n",
       "      <td>2021-05-28</td>\n",
       "      <td>@jnkstigmaa EXCUSE MEEEEE&amp;amp;:):&amp;amp;):£: i a...</td>\n",
       "      <td>1398399655533236232</td>\n",
       "      <td>1225094973948878853</td>\n",
       "      <td>1</td>\n",
       "      <td>0</td>\n",
       "      <td>0</td>\n",
       "      <td>0</td>\n",
       "      <td>NaN</td>\n",
       "      <td>NaN</td>\n",
       "      <td>[{'_type': 'snscrape.modules.twitter.User', 'u...</td>\n",
       "      <td>English</td>\n",
       "      <td>2021</td>\n",
       "      <td>5</td>\n",
       "    </tr>\n",
       "    <tr>\n",
       "      <th>4</th>\n",
       "      <td>2021-05-28</td>\n",
       "      <td>@jnkstigmaa gottem mad https://t.co/RncbakBowH</td>\n",
       "      <td>1398399345356165122</td>\n",
       "      <td>1225094973948878853</td>\n",
       "      <td>1</td>\n",
       "      <td>0</td>\n",
       "      <td>0</td>\n",
       "      <td>0</td>\n",
       "      <td>[{'_type': 'snscrape.modules.twitter.Gif', 'th...</td>\n",
       "      <td>NaN</td>\n",
       "      <td>[{'_type': 'snscrape.modules.twitter.User', 'u...</td>\n",
       "      <td>English</td>\n",
       "      <td>2021</td>\n",
       "      <td>5</td>\n",
       "    </tr>\n",
       "  </tbody>\n",
       "</table>\n",
       "</div>"
      ],
      "text/plain": [
       "         date                                    renderedContent  \\\n",
       "0  2021-05-29                  @TETEPROTECT0R he’s jinjja uwu~~😞   \n",
       "1  2021-05-28  @J4MAlSVU_ @yeoyxy @vminkookurz yes coz even s...   \n",
       "2  2021-05-28   @jnkstigmaa chan outsold https://t.co/A5jMzyqVvZ   \n",
       "3  2021-05-28  @jnkstigmaa EXCUSE MEEEEE&amp;:):&amp;):£: i a...   \n",
       "4  2021-05-28     @jnkstigmaa gottem mad https://t.co/RncbakBowH   \n",
       "\n",
       "               tweetId               userId  replyCount  retweetCount  \\\n",
       "0  1398442352868462596  1225094973948878853           1             0   \n",
       "1  1398427525844549633  1225094973948878853           5             2   \n",
       "2  1398400240173076481  1225094973948878853           1             0   \n",
       "3  1398399655533236232  1225094973948878853           1             0   \n",
       "4  1398399345356165122  1225094973948878853           1             0   \n",
       "\n",
       "   likeCount  quoteCount                                              media  \\\n",
       "0          1           0                                                NaN   \n",
       "1          2          11                                                NaN   \n",
       "2          0           1  [{'_type': 'snscrape.modules.twitter.Photo', '...   \n",
       "3          0           0                                                NaN   \n",
       "4          0           0  [{'_type': 'snscrape.modules.twitter.Gif', 'th...   \n",
       "\n",
       "  quotedTweet                                     mentionedUsers        lang  \\\n",
       "0         NaN  [{'_type': 'snscrape.modules.twitter.User', 'u...  Indonesian   \n",
       "1         NaN  [{'_type': 'snscrape.modules.twitter.User', 'u...     English   \n",
       "2         NaN  [{'_type': 'snscrape.modules.twitter.User', 'u...     English   \n",
       "3         NaN  [{'_type': 'snscrape.modules.twitter.User', 'u...     English   \n",
       "4         NaN  [{'_type': 'snscrape.modules.twitter.User', 'u...     English   \n",
       "\n",
       "   year  month  \n",
       "0  2021      5  \n",
       "1  2021      5  \n",
       "2  2021      5  \n",
       "3  2021      5  \n",
       "4  2021      5  "
      ]
     },
     "execution_count": 7,
     "metadata": {},
     "output_type": "execute_result"
    }
   ],
   "source": [
    "tweets_df.head()"
   ]
  },
  {
   "cell_type": "code",
   "execution_count": 8,
   "id": "experienced-vacation",
   "metadata": {},
   "outputs": [
    {
     "data": {
      "text/html": [
       "<div>\n",
       "<style scoped>\n",
       "    .dataframe tbody tr th:only-of-type {\n",
       "        vertical-align: middle;\n",
       "    }\n",
       "\n",
       "    .dataframe tbody tr th {\n",
       "        vertical-align: top;\n",
       "    }\n",
       "\n",
       "    .dataframe thead th {\n",
       "        text-align: right;\n",
       "    }\n",
       "</style>\n",
       "<table border=\"1\" class=\"dataframe\">\n",
       "  <thead>\n",
       "    <tr style=\"text-align: right;\">\n",
       "      <th></th>\n",
       "      <th>tweetId</th>\n",
       "    </tr>\n",
       "    <tr>\n",
       "      <th>year</th>\n",
       "      <th></th>\n",
       "    </tr>\n",
       "  </thead>\n",
       "  <tbody>\n",
       "    <tr>\n",
       "      <th>2017</th>\n",
       "      <td>52</td>\n",
       "    </tr>\n",
       "    <tr>\n",
       "      <th>2020</th>\n",
       "      <td>203</td>\n",
       "    </tr>\n",
       "    <tr>\n",
       "      <th>2021</th>\n",
       "      <td>6879</td>\n",
       "    </tr>\n",
       "  </tbody>\n",
       "</table>\n",
       "</div>"
      ],
      "text/plain": [
       "      tweetId\n",
       "year         \n",
       "2017       52\n",
       "2020      203\n",
       "2021     6879"
      ]
     },
     "execution_count": 8,
     "metadata": {},
     "output_type": "execute_result"
    }
   ],
   "source": [
    "tweets_df[['year','tweetId']].groupby('year').count()"
   ]
  },
  {
   "cell_type": "code",
   "execution_count": 9,
   "id": "refined-experiment",
   "metadata": {},
   "outputs": [],
   "source": [
    "tweets_2021 = tweets_df[tweets_df.year == 2021]"
   ]
  },
  {
   "cell_type": "code",
   "execution_count": 10,
   "id": "simplified-skirt",
   "metadata": {},
   "outputs": [
    {
     "data": {
      "text/plain": [
       "(6879, 14)"
      ]
     },
     "execution_count": 10,
     "metadata": {},
     "output_type": "execute_result"
    }
   ],
   "source": [
    "tweets_2021.shape"
   ]
  },
  {
   "cell_type": "code",
   "execution_count": 11,
   "id": "explicit-parallel",
   "metadata": {},
   "outputs": [
    {
     "data": {
      "text/html": [
       "<div>\n",
       "<style scoped>\n",
       "    .dataframe tbody tr th:only-of-type {\n",
       "        vertical-align: middle;\n",
       "    }\n",
       "\n",
       "    .dataframe tbody tr th {\n",
       "        vertical-align: top;\n",
       "    }\n",
       "\n",
       "    .dataframe thead th {\n",
       "        text-align: right;\n",
       "    }\n",
       "</style>\n",
       "<table border=\"1\" class=\"dataframe\">\n",
       "  <thead>\n",
       "    <tr style=\"text-align: right;\">\n",
       "      <th></th>\n",
       "      <th>tweetId</th>\n",
       "    </tr>\n",
       "    <tr>\n",
       "      <th>month</th>\n",
       "      <th></th>\n",
       "    </tr>\n",
       "  </thead>\n",
       "  <tbody>\n",
       "    <tr>\n",
       "      <th>1</th>\n",
       "      <td>83</td>\n",
       "    </tr>\n",
       "    <tr>\n",
       "      <th>2</th>\n",
       "      <td>90</td>\n",
       "    </tr>\n",
       "    <tr>\n",
       "      <th>3</th>\n",
       "      <td>761</td>\n",
       "    </tr>\n",
       "    <tr>\n",
       "      <th>4</th>\n",
       "      <td>3831</td>\n",
       "    </tr>\n",
       "    <tr>\n",
       "      <th>5</th>\n",
       "      <td>2114</td>\n",
       "    </tr>\n",
       "  </tbody>\n",
       "</table>\n",
       "</div>"
      ],
      "text/plain": [
       "       tweetId\n",
       "month         \n",
       "1           83\n",
       "2           90\n",
       "3          761\n",
       "4         3831\n",
       "5         2114"
      ]
     },
     "execution_count": 11,
     "metadata": {},
     "output_type": "execute_result"
    }
   ],
   "source": [
    "tweets_2021[['month','tweetId']].groupby('month').count()"
   ]
  },
  {
   "cell_type": "code",
   "execution_count": 12,
   "id": "brilliant-disney",
   "metadata": {},
   "outputs": [],
   "source": [
    "def extract_emojis(s):\n",
    "    return ''.join(c for c in s if c in emoji.UNICODE_EMOJI['en'])"
   ]
  },
  {
   "cell_type": "code",
   "execution_count": 13,
   "id": "classified-saudi",
   "metadata": {},
   "outputs": [],
   "source": [
    "tweets_df['emoji'] = tweets_df.renderedContent.apply(extract_emojis)"
   ]
  },
  {
   "cell_type": "code",
   "execution_count": 14,
   "id": "automotive-district",
   "metadata": {},
   "outputs": [
    {
     "data": {
      "text/plain": [
       "date               object\n",
       "renderedContent    object\n",
       "tweetId             int64\n",
       "userId              int64\n",
       "replyCount          int64\n",
       "retweetCount        int64\n",
       "likeCount           int64\n",
       "quoteCount          int64\n",
       "media              object\n",
       "quotedTweet        object\n",
       "mentionedUsers     object\n",
       "lang               object\n",
       "year                int64\n",
       "month               int64\n",
       "emoji              object\n",
       "dtype: object"
      ]
     },
     "execution_count": 14,
     "metadata": {},
     "output_type": "execute_result"
    }
   ],
   "source": [
    "tweets_df.dtypes"
   ]
  },
  {
   "cell_type": "code",
   "execution_count": 15,
   "id": "capable-improvement",
   "metadata": {},
   "outputs": [
    {
     "data": {
      "text/plain": [
       "'🥺🥰'"
      ]
     },
     "execution_count": 15,
     "metadata": {},
     "output_type": "execute_result"
    }
   ],
   "source": [
    "tweets_df['emoji'].iloc[20]"
   ]
  },
  {
   "cell_type": "code",
   "execution_count": 16,
   "id": "fresh-appeal",
   "metadata": {},
   "outputs": [
    {
     "data": {
      "text/plain": [
       "'\\\\U0001f97a'"
      ]
     },
     "execution_count": 16,
     "metadata": {},
     "output_type": "execute_result"
    }
   ],
   "source": [
    "tweets_df['emoji'].iloc[20][0].encode('unicode-escape').decode('ASCII')"
   ]
  },
  {
   "cell_type": "code",
   "execution_count": 18,
   "id": "played-continuity",
   "metadata": {},
   "outputs": [
    {
     "data": {
      "text/plain": [
       "'🥺🥰'"
      ]
     },
     "execution_count": 18,
     "metadata": {},
     "output_type": "execute_result"
    }
   ],
   "source": [
    "tweets_df['emoji'].iloc[20]"
   ]
  },
  {
   "cell_type": "code",
   "execution_count": 19,
   "id": "pressing-gallery",
   "metadata": {},
   "outputs": [],
   "source": [
    "a = list(tweets_df['emoji'].iloc[20])"
   ]
  },
  {
   "cell_type": "code",
   "execution_count": 20,
   "id": "trained-toner",
   "metadata": {},
   "outputs": [
    {
     "name": "stdout",
     "output_type": "stream",
     "text": [
      "U0001F97A\n",
      "U0001F970\n"
     ]
    }
   ],
   "source": [
    "for i in a:\n",
    "    print(f'U000{ord(i):X}')"
   ]
  },
  {
   "cell_type": "code",
   "execution_count": 21,
   "id": "swedish-child",
   "metadata": {},
   "outputs": [],
   "source": [
    "import seaborn as sns"
   ]
  },
  {
   "cell_type": "code",
   "execution_count": 24,
   "id": "qualified-magazine",
   "metadata": {},
   "outputs": [
    {
     "data": {
      "text/plain": [
       "<AxesSubplot:xlabel='date', ylabel='tweetId'>"
      ]
     },
     "execution_count": 24,
     "metadata": {},
     "output_type": "execute_result"
    },
    {
     "data": {
      "image/png": "[encoded data removed]",
      "text/plain": [
       "<Figure size 432x288 with 1 Axes>"
      ]
     },
     "metadata": {
      "needs_background": "light"
     },
     "output_type": "display_data"
    }
   ],
   "source": [
    "sns.scatterplot(data=tweets_2021, x=\"date\", y=\"tweetId\", hue=\"lang\")"
   ]
  },
  {
   "cell_type": "code",
   "execution_count": null,
   "id": "rolled-syntax",
   "metadata": {},
   "outputs": [],
   "source": []
  }
 ],
 "metadata": {
  "kernelspec": {
   "display_name": "Python 3",
   "language": "python",
   "name": "python3"
  },
  "language_info": {
   "codemirror_mode": {
    "name": "ipython",
    "version": 3
   },
   "file_extension": ".py",
   "mimetype": "text/x-python",
   "name": "python",
   "nbconvert_exporter": "python",
   "pygments_lexer": "ipython3",
   "version": "3.9.4"
  }
 },
 "nbformat": 4,
 "nbformat_minor": 5
}
