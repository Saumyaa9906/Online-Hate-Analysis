{
 "cells": [
  {
   "cell_type": "code",
   "execution_count": 23,
   "id": "f6e93f19",
   "metadata": {},
   "outputs": [],
   "source": [
    "import os\n",
    "import pandas as pd\n",
    "import numpy as np\n",
    "import glob\n",
    "import json"
   ]
  },
  {
   "cell_type": "code",
   "execution_count": 2,
   "id": "35982f82",
   "metadata": {},
   "outputs": [],
   "source": [
    "from pandas.io.json import json_normalize\n",
    "import warnings\n",
    "warnings.filterwarnings(\"ignore\")"
   ]
  },
  {
   "cell_type": "code",
   "execution_count": 3,
   "id": "37b34f02",
   "metadata": {},
   "outputs": [
    {
     "data": {
      "text/plain": [
       "0"
      ]
     },
     "execution_count": 3,
     "metadata": {},
     "output_type": "execute_result"
    }
   ],
   "source": [
    "os.system(\"snscrape --jsonl --max-results 500 twitter-hashtag 'nctdisband' > tag1.json\")"
   ]
  },
  {
   "cell_type": "code",
   "execution_count": 4,
   "id": "6ef2860e",
   "metadata": {},
   "outputs": [
    {
     "data": {
      "text/plain": [
       "0"
      ]
     },
     "execution_count": 4,
     "metadata": {},
     "output_type": "execute_result"
    }
   ],
   "source": [
    "os.system(\"snscrape --jsonl --max-results 500 twitter-hashtag 'btsdisband' > tag2.json\")"
   ]
  },
  {
   "cell_type": "code",
   "execution_count": 5,
   "id": "c1b63e63",
   "metadata": {},
   "outputs": [
    {
     "data": {
      "text/plain": [
       "0"
      ]
     },
     "execution_count": 5,
     "metadata": {},
     "output_type": "execute_result"
    }
   ],
   "source": [
    "os.system(\"snscrape --jsonl --max-results 500 twitter-hashtag 'jungkookcovid' > tag3.json\")"
   ]
  },
  {
   "cell_type": "code",
   "execution_count": 6,
   "id": "717f5da1",
   "metadata": {},
   "outputs": [
    {
     "data": {
      "text/plain": [
       "0"
      ]
     },
     "execution_count": 6,
     "metadata": {},
     "output_type": "execute_result"
    }
   ],
   "source": [
    "os.system(\"snscrape --jsonl --max-results 500 twitter-hashtag 'hyunjinbully' > tag4.json\")"
   ]
  },
  {
   "cell_type": "code",
   "execution_count": 7,
   "id": "1de793ff",
   "metadata": {},
   "outputs": [
    {
     "data": {
      "text/plain": [
       "0"
      ]
     },
     "execution_count": 7,
     "metadata": {},
     "output_type": "execute_result"
    }
   ],
   "source": [
    "os.system(\"snscrape --jsonl --max-results 500 twitter-hashtag 'jenniebully' > tag5.json\")\n",
    "os.system(\"snscrape --jsonl --max-results 500 twitter-hashtag 'jisungnword' > tag6.json\")\n",
    "os.system(\"snscrape --jsonl --max-results 500 twitter-hashtag 'loonadisband' > tag7.json\")"
   ]
  },
  {
   "cell_type": "code",
   "execution_count": 8,
   "id": "c13198f1",
   "metadata": {},
   "outputs": [
    {
     "data": {
      "text/plain": [
       "0"
      ]
     },
     "execution_count": 8,
     "metadata": {},
     "output_type": "execute_result"
    }
   ],
   "source": [
    "os.system(\"snscrape --jsonl --max-results 500 twitter-hashtag 'jinlazy' > tag8.json\")\n",
    "os.system(\"snscrape --jsonl --max-results 500 twitter-hashtag 'chuubully' > tag9.json\")\n",
    "os.system(\"snscrape --jsonl --max-results 500 twitter-hashtag 'namjoonracist' > tag10.json\")"
   ]
  },
  {
   "cell_type": "code",
   "execution_count": 9,
   "id": "ada9d661",
   "metadata": {},
   "outputs": [],
   "source": [
    "#merge json objects\n",
    "flag = 1\n",
    "for file in glob.glob(\"*.json\"):\n",
    "    df = pd.read_json(file, lines = True)\n",
    "    if flag == 1:\n",
    "        cols = df.columns\n",
    "        df_users = pd.DataFrame(columns = cols)\n",
    "        flag = 0\n",
    "    else:\n",
    "        df_users = pd.concat([df_users,df])"
   ]
  },
  {
   "cell_type": "code",
   "execution_count": 10,
   "id": "eee3db80",
   "metadata": {},
   "outputs": [
    {
     "name": "stdout",
     "output_type": "stream",
     "text": [
      "(3509, 28)\n"
     ]
    },
    {
     "data": {
      "text/html": [
       "<div>\n",
       "<style scoped>\n",
       "    .dataframe tbody tr th:only-of-type {\n",
       "        vertical-align: middle;\n",
       "    }\n",
       "\n",
       "    .dataframe tbody tr th {\n",
       "        vertical-align: top;\n",
       "    }\n",
       "\n",
       "    .dataframe thead th {\n",
       "        text-align: right;\n",
       "    }\n",
       "</style>\n",
       "<table border=\"1\" class=\"dataframe\">\n",
       "  <thead>\n",
       "    <tr style=\"text-align: right;\">\n",
       "      <th></th>\n",
       "      <th>_type</th>\n",
       "      <th>username</th>\n",
       "      <th>userId</th>\n",
       "      <th>displayname</th>\n",
       "      <th>rawDescription</th>\n",
       "      <th>descriptionUrls</th>\n",
       "      <th>verified</th>\n",
       "      <th>created</th>\n",
       "      <th>followersCount</th>\n",
       "      <th>friendsCount</th>\n",
       "      <th>statusesCount</th>\n",
       "      <th>favouritesCount</th>\n",
       "      <th>listedCount</th>\n",
       "      <th>mediaCount</th>\n",
       "      <th>location</th>\n",
       "      <th>protected</th>\n",
       "      <th>linkUrl</th>\n",
       "      <th>profileImageUrl</th>\n",
       "      <th>profileBannerUrl</th>\n",
       "      <th>profileUrl</th>\n",
       "    </tr>\n",
       "  </thead>\n",
       "  <tbody>\n",
       "    <tr>\n",
       "      <th>0</th>\n",
       "      <td>snscrape.modules.twitter.User</td>\n",
       "      <td>btsdisband9</td>\n",
       "      <td>1402752139496202240</td>\n",
       "      <td>bts disband</td>\n",
       "      <td></td>\n",
       "      <td>None</td>\n",
       "      <td>False</td>\n",
       "      <td>2021-06-09T22:19:25+00:00</td>\n",
       "      <td>1</td>\n",
       "      <td>1</td>\n",
       "      <td>64</td>\n",
       "      <td>11</td>\n",
       "      <td>0</td>\n",
       "      <td>4</td>\n",
       "      <td></td>\n",
       "      <td>False</td>\n",
       "      <td>None</td>\n",
       "      <td>https://abs.twimg.com/sticky/default_profile_i...</td>\n",
       "      <td>None</td>\n",
       "      <td>https://twitter.com/btsdisband9</td>\n",
       "    </tr>\n",
       "    <tr>\n",
       "      <th>1</th>\n",
       "      <td>snscrape.modules.twitter.User</td>\n",
       "      <td>hoseokcaballo</td>\n",
       "      <td>1402850500173783043</td>\n",
       "      <td>bts disband</td>\n",
       "      <td></td>\n",
       "      <td>None</td>\n",
       "      <td>False</td>\n",
       "      <td>2021-06-10T04:50:38+00:00</td>\n",
       "      <td>1</td>\n",
       "      <td>1</td>\n",
       "      <td>6</td>\n",
       "      <td>1</td>\n",
       "      <td>0</td>\n",
       "      <td>1</td>\n",
       "      <td></td>\n",
       "      <td>False</td>\n",
       "      <td>None</td>\n",
       "      <td>https://pbs.twimg.com/profile_images/140285164...</td>\n",
       "      <td>https://pbs.twimg.com/profile_banners/14028505...</td>\n",
       "      <td>https://twitter.com/hoseokcaballo</td>\n",
       "    </tr>\n",
       "  </tbody>\n",
       "</table>\n",
       "</div>"
      ],
      "text/plain": [
       "                           _type       username               userId  \\\n",
       "0  snscrape.modules.twitter.User    btsdisband9  1402752139496202240   \n",
       "1  snscrape.modules.twitter.User  hoseokcaballo  1402850500173783043   \n",
       "\n",
       "   displayname rawDescription descriptionUrls  verified  \\\n",
       "0  bts disband                           None     False   \n",
       "1  bts disband                           None     False   \n",
       "\n",
       "                     created  followersCount  friendsCount  statusesCount  \\\n",
       "0  2021-06-09T22:19:25+00:00               1             1             64   \n",
       "1  2021-06-10T04:50:38+00:00               1             1              6   \n",
       "\n",
       "   favouritesCount  listedCount  mediaCount location  protected linkUrl  \\\n",
       "0               11            0           4               False    None   \n",
       "1                1            0           1               False    None   \n",
       "\n",
       "                                     profileImageUrl  \\\n",
       "0  https://abs.twimg.com/sticky/default_profile_i...   \n",
       "1  https://pbs.twimg.com/profile_images/140285164...   \n",
       "\n",
       "                                    profileBannerUrl  \\\n",
       "0                                               None   \n",
       "1  https://pbs.twimg.com/profile_banners/14028505...   \n",
       "\n",
       "                          profileUrl  \n",
       "0    https://twitter.com/btsdisband9  \n",
       "1  https://twitter.com/hoseokcaballo  "
      ]
     },
     "execution_count": 10,
     "metadata": {},
     "output_type": "execute_result"
    }
   ],
   "source": [
    "#normalize user object\n",
    "print(df_users.shape)\n",
    "user = json_normalize(df_users['user'])\n",
    "user.drop(['description', 'linkTcourl'], axis=1, inplace=True)\n",
    "user.rename(columns={'id':'userId', 'url':'profileUrl'}, inplace=True)\n",
    "user.head(2)"
   ]
  },
  {
   "cell_type": "code",
   "execution_count": 11,
   "id": "d1ee1b8b",
   "metadata": {},
   "outputs": [
    {
     "data": {
      "text/html": [
       "<div>\n",
       "<style scoped>\n",
       "    .dataframe tbody tr th:only-of-type {\n",
       "        vertical-align: middle;\n",
       "    }\n",
       "\n",
       "    .dataframe tbody tr th {\n",
       "        vertical-align: top;\n",
       "    }\n",
       "\n",
       "    .dataframe thead th {\n",
       "        text-align: right;\n",
       "    }\n",
       "</style>\n",
       "<table border=\"1\" class=\"dataframe\">\n",
       "  <thead>\n",
       "    <tr style=\"text-align: right;\">\n",
       "      <th></th>\n",
       "      <th>_type</th>\n",
       "      <th>username</th>\n",
       "      <th>userId</th>\n",
       "      <th>displayname</th>\n",
       "      <th>rawDescription</th>\n",
       "      <th>descriptionUrls</th>\n",
       "      <th>verified</th>\n",
       "      <th>created</th>\n",
       "      <th>followersCount</th>\n",
       "      <th>friendsCount</th>\n",
       "      <th>statusesCount</th>\n",
       "      <th>favouritesCount</th>\n",
       "      <th>listedCount</th>\n",
       "      <th>mediaCount</th>\n",
       "      <th>location</th>\n",
       "      <th>protected</th>\n",
       "      <th>linkUrl</th>\n",
       "      <th>profileImageUrl</th>\n",
       "      <th>profileBannerUrl</th>\n",
       "      <th>profileUrl</th>\n",
       "    </tr>\n",
       "  </thead>\n",
       "  <tbody>\n",
       "    <tr>\n",
       "      <th>0</th>\n",
       "      <td>snscrape.modules.twitter.User</td>\n",
       "      <td>btsdisband9</td>\n",
       "      <td>1402752139496202240</td>\n",
       "      <td>bts disband</td>\n",
       "      <td></td>\n",
       "      <td>None</td>\n",
       "      <td>False</td>\n",
       "      <td>2021-06-09T22:19:25+00:00</td>\n",
       "      <td>1</td>\n",
       "      <td>1</td>\n",
       "      <td>64</td>\n",
       "      <td>11</td>\n",
       "      <td>0</td>\n",
       "      <td>4</td>\n",
       "      <td></td>\n",
       "      <td>False</td>\n",
       "      <td>None</td>\n",
       "      <td>https://abs.twimg.com/sticky/default_profile_i...</td>\n",
       "      <td>None</td>\n",
       "      <td>https://twitter.com/btsdisband9</td>\n",
       "    </tr>\n",
       "    <tr>\n",
       "      <th>1</th>\n",
       "      <td>snscrape.modules.twitter.User</td>\n",
       "      <td>hoseokcaballo</td>\n",
       "      <td>1402850500173783043</td>\n",
       "      <td>bts disband</td>\n",
       "      <td></td>\n",
       "      <td>None</td>\n",
       "      <td>False</td>\n",
       "      <td>2021-06-10T04:50:38+00:00</td>\n",
       "      <td>1</td>\n",
       "      <td>1</td>\n",
       "      <td>6</td>\n",
       "      <td>1</td>\n",
       "      <td>0</td>\n",
       "      <td>1</td>\n",
       "      <td></td>\n",
       "      <td>False</td>\n",
       "      <td>None</td>\n",
       "      <td>https://pbs.twimg.com/profile_images/140285164...</td>\n",
       "      <td>https://pbs.twimg.com/profile_banners/14028505...</td>\n",
       "      <td>https://twitter.com/hoseokcaballo</td>\n",
       "    </tr>\n",
       "  </tbody>\n",
       "</table>\n",
       "</div>"
      ],
      "text/plain": [
       "                           _type       username               userId  \\\n",
       "0  snscrape.modules.twitter.User    btsdisband9  1402752139496202240   \n",
       "1  snscrape.modules.twitter.User  hoseokcaballo  1402850500173783043   \n",
       "\n",
       "   displayname rawDescription descriptionUrls  verified  \\\n",
       "0  bts disband                           None     False   \n",
       "1  bts disband                           None     False   \n",
       "\n",
       "                     created  followersCount  friendsCount  statusesCount  \\\n",
       "0  2021-06-09T22:19:25+00:00               1             1             64   \n",
       "1  2021-06-10T04:50:38+00:00               1             1              6   \n",
       "\n",
       "   favouritesCount  listedCount  mediaCount location  protected linkUrl  \\\n",
       "0               11            0           4               False    None   \n",
       "1                1            0           1               False    None   \n",
       "\n",
       "                                     profileImageUrl  \\\n",
       "0  https://abs.twimg.com/sticky/default_profile_i...   \n",
       "1  https://pbs.twimg.com/profile_images/140285164...   \n",
       "\n",
       "                                    profileBannerUrl  \\\n",
       "0                                               None   \n",
       "1  https://pbs.twimg.com/profile_banners/14028505...   \n",
       "\n",
       "                          profileUrl  \n",
       "0    https://twitter.com/btsdisband9  \n",
       "1  https://twitter.com/hoseokcaballo  "
      ]
     },
     "execution_count": 11,
     "metadata": {},
     "output_type": "execute_result"
    }
   ],
   "source": [
    "#drop duplicates\n",
    "user = pd.DataFrame(user)\n",
    "user.drop_duplicates(subset=['userId'], inplace=True)\n",
    "user.head(2)"
   ]
  },
  {
   "cell_type": "code",
   "execution_count": 12,
   "id": "89ea1f53",
   "metadata": {},
   "outputs": [],
   "source": [
    "user_cols = ['username', 'displayname', 'userId','rawDescription','verified','created','followersCount',\n",
    "       'friendsCount', 'statusesCount', 'favouritesCount', 'listedCount',\n",
    "       'mediaCount', 'location']"
   ]
  },
  {
   "cell_type": "code",
   "execution_count": 13,
   "id": "1bf8b7f2",
   "metadata": {},
   "outputs": [
    {
     "data": {
      "text/html": [
       "<div>\n",
       "<style scoped>\n",
       "    .dataframe tbody tr th:only-of-type {\n",
       "        vertical-align: middle;\n",
       "    }\n",
       "\n",
       "    .dataframe tbody tr th {\n",
       "        vertical-align: top;\n",
       "    }\n",
       "\n",
       "    .dataframe thead th {\n",
       "        text-align: right;\n",
       "    }\n",
       "</style>\n",
       "<table border=\"1\" class=\"dataframe\">\n",
       "  <thead>\n",
       "    <tr style=\"text-align: right;\">\n",
       "      <th></th>\n",
       "      <th>username</th>\n",
       "      <th>displayname</th>\n",
       "      <th>userId</th>\n",
       "      <th>rawDescription</th>\n",
       "      <th>verified</th>\n",
       "      <th>created</th>\n",
       "      <th>followersCount</th>\n",
       "      <th>friendsCount</th>\n",
       "      <th>statusesCount</th>\n",
       "      <th>favouritesCount</th>\n",
       "      <th>listedCount</th>\n",
       "      <th>mediaCount</th>\n",
       "      <th>location</th>\n",
       "    </tr>\n",
       "  </thead>\n",
       "  <tbody>\n",
       "    <tr>\n",
       "      <th>0</th>\n",
       "      <td>btsdisband9</td>\n",
       "      <td>bts disband</td>\n",
       "      <td>1402752139496202240</td>\n",
       "      <td></td>\n",
       "      <td>False</td>\n",
       "      <td>2021-06-09T22:19:25+00:00</td>\n",
       "      <td>1</td>\n",
       "      <td>1</td>\n",
       "      <td>64</td>\n",
       "      <td>11</td>\n",
       "      <td>0</td>\n",
       "      <td>4</td>\n",
       "      <td></td>\n",
       "    </tr>\n",
       "    <tr>\n",
       "      <th>1</th>\n",
       "      <td>hoseokcaballo</td>\n",
       "      <td>bts disband</td>\n",
       "      <td>1402850500173783043</td>\n",
       "      <td></td>\n",
       "      <td>False</td>\n",
       "      <td>2021-06-10T04:50:38+00:00</td>\n",
       "      <td>1</td>\n",
       "      <td>1</td>\n",
       "      <td>6</td>\n",
       "      <td>1</td>\n",
       "      <td>0</td>\n",
       "      <td>1</td>\n",
       "      <td></td>\n",
       "    </tr>\n",
       "  </tbody>\n",
       "</table>\n",
       "</div>"
      ],
      "text/plain": [
       "        username  displayname               userId rawDescription  verified  \\\n",
       "0    btsdisband9  bts disband  1402752139496202240                    False   \n",
       "1  hoseokcaballo  bts disband  1402850500173783043                    False   \n",
       "\n",
       "                     created  followersCount  friendsCount  statusesCount  \\\n",
       "0  2021-06-09T22:19:25+00:00               1             1             64   \n",
       "1  2021-06-10T04:50:38+00:00               1             1              6   \n",
       "\n",
       "   favouritesCount  listedCount  mediaCount location  \n",
       "0               11            0           4           \n",
       "1                1            0           1           "
      ]
     },
     "execution_count": 13,
     "metadata": {},
     "output_type": "execute_result"
    }
   ],
   "source": [
    "tweet_users = user[user_cols]\n",
    "tweet_users.head(2)"
   ]
  },
  {
   "cell_type": "code",
   "execution_count": 14,
   "id": "c529246f",
   "metadata": {},
   "outputs": [
    {
     "data": {
      "text/plain": [
       "(1130, 13)"
      ]
     },
     "execution_count": 14,
     "metadata": {},
     "output_type": "execute_result"
    }
   ],
   "source": [
    "tweet_users.shape"
   ]
  },
  {
   "cell_type": "code",
   "execution_count": 15,
   "id": "899c01c9",
   "metadata": {},
   "outputs": [],
   "source": [
    "tweet_users.to_csv('snshashtags_users.csv', index=False)"
   ]
  },
  {
   "cell_type": "code",
   "execution_count": 32,
   "id": "ab61752f",
   "metadata": {},
   "outputs": [],
   "source": [
    "#add userid col\n",
    "user_id = []\n",
    "for user in df_users['user']:\n",
    "    uid = user['id']\n",
    "    user_id.append(uid)\n",
    "df_users['userId'] = user_id"
   ]
  },
  {
   "cell_type": "code",
   "execution_count": 33,
   "id": "17e292d2",
   "metadata": {},
   "outputs": [
    {
     "data": {
      "text/html": [
       "<div>\n",
       "<style scoped>\n",
       "    .dataframe tbody tr th:only-of-type {\n",
       "        vertical-align: middle;\n",
       "    }\n",
       "\n",
       "    .dataframe tbody tr th {\n",
       "        vertical-align: top;\n",
       "    }\n",
       "\n",
       "    .dataframe thead th {\n",
       "        text-align: right;\n",
       "    }\n",
       "</style>\n",
       "<table border=\"1\" class=\"dataframe\">\n",
       "  <thead>\n",
       "    <tr style=\"text-align: right;\">\n",
       "      <th></th>\n",
       "      <th>date</th>\n",
       "      <th>renderedContent</th>\n",
       "      <th>tweetId</th>\n",
       "      <th>userId</th>\n",
       "      <th>replyCount</th>\n",
       "      <th>retweetCount</th>\n",
       "      <th>likeCount</th>\n",
       "      <th>quoteCount</th>\n",
       "      <th>media</th>\n",
       "      <th>quotedTweet</th>\n",
       "      <th>mentionedUsers</th>\n",
       "      <th>lang</th>\n",
       "    </tr>\n",
       "  </thead>\n",
       "  <tbody>\n",
       "    <tr>\n",
       "      <th>0</th>\n",
       "      <td>2021-06-10 05:34:23+00:00</td>\n",
       "      <td>#btsdisband jin ebrio namjoon racist bts racis...</td>\n",
       "      <td>1402861683840884737</td>\n",
       "      <td>1402752139496202240</td>\n",
       "      <td>1</td>\n",
       "      <td>0</td>\n",
       "      <td>0</td>\n",
       "      <td>0</td>\n",
       "      <td>None</td>\n",
       "      <td>None</td>\n",
       "      <td>None</td>\n",
       "      <td>en</td>\n",
       "    </tr>\n",
       "    <tr>\n",
       "      <th>1</th>\n",
       "      <td>2021-06-10 05:27:35+00:00</td>\n",
       "      <td>yoongi racist\\nbts racist\\njimin ugly \\nyoongi...</td>\n",
       "      <td>1402859968886345734</td>\n",
       "      <td>1402850500173783043</td>\n",
       "      <td>0</td>\n",
       "      <td>0</td>\n",
       "      <td>0</td>\n",
       "      <td>0</td>\n",
       "      <td>None</td>\n",
       "      <td>None</td>\n",
       "      <td>None</td>\n",
       "      <td>en</td>\n",
       "    </tr>\n",
       "    <tr>\n",
       "      <th>2</th>\n",
       "      <td>2021-06-10 04:38:28+00:00</td>\n",
       "      <td>yoongi racist\\nbts racist\\njimin ugly \\nyoongi...</td>\n",
       "      <td>1402847611925770242</td>\n",
       "      <td>1402772888760033282</td>\n",
       "      <td>2</td>\n",
       "      <td>0</td>\n",
       "      <td>0</td>\n",
       "      <td>0</td>\n",
       "      <td>[{'_type': 'snscrape.modules.twitter.Photo', '...</td>\n",
       "      <td>None</td>\n",
       "      <td>None</td>\n",
       "      <td>en</td>\n",
       "    </tr>\n",
       "    <tr>\n",
       "      <th>3</th>\n",
       "      <td>2021-06-10 04:37:40+00:00</td>\n",
       "      <td>@qkxnwkdi yoongi racist\\nbts racist\\njimin ugl...</td>\n",
       "      <td>1402847406845317122</td>\n",
       "      <td>1402772888760033282</td>\n",
       "      <td>0</td>\n",
       "      <td>0</td>\n",
       "      <td>0</td>\n",
       "      <td>0</td>\n",
       "      <td>None</td>\n",
       "      <td>None</td>\n",
       "      <td>[{'_type': 'snscrape.modules.twitter.User', 'u...</td>\n",
       "      <td>en</td>\n",
       "    </tr>\n",
       "    <tr>\n",
       "      <th>4</th>\n",
       "      <td>2021-06-10 02:34:49+00:00</td>\n",
       "      <td>@Jklovable_ a-ay a-amiga a m-mí me p-pasa q-qu...</td>\n",
       "      <td>1402816491683201024</td>\n",
       "      <td>1390079867845332993</td>\n",
       "      <td>0</td>\n",
       "      <td>0</td>\n",
       "      <td>0</td>\n",
       "      <td>0</td>\n",
       "      <td>None</td>\n",
       "      <td>None</td>\n",
       "      <td>[{'_type': 'snscrape.modules.twitter.User', 'u...</td>\n",
       "      <td>es</td>\n",
       "    </tr>\n",
       "  </tbody>\n",
       "</table>\n",
       "</div>"
      ],
      "text/plain": [
       "                       date  \\\n",
       "0 2021-06-10 05:34:23+00:00   \n",
       "1 2021-06-10 05:27:35+00:00   \n",
       "2 2021-06-10 04:38:28+00:00   \n",
       "3 2021-06-10 04:37:40+00:00   \n",
       "4 2021-06-10 02:34:49+00:00   \n",
       "\n",
       "                                     renderedContent              tweetId  \\\n",
       "0  #btsdisband jin ebrio namjoon racist bts racis...  1402861683840884737   \n",
       "1  yoongi racist\\nbts racist\\njimin ugly \\nyoongi...  1402859968886345734   \n",
       "2  yoongi racist\\nbts racist\\njimin ugly \\nyoongi...  1402847611925770242   \n",
       "3  @qkxnwkdi yoongi racist\\nbts racist\\njimin ugl...  1402847406845317122   \n",
       "4  @Jklovable_ a-ay a-amiga a m-mí me p-pasa q-qu...  1402816491683201024   \n",
       "\n",
       "                userId replyCount retweetCount likeCount quoteCount  \\\n",
       "0  1402752139496202240          1            0         0          0   \n",
       "1  1402850500173783043          0            0         0          0   \n",
       "2  1402772888760033282          2            0         0          0   \n",
       "3  1402772888760033282          0            0         0          0   \n",
       "4  1390079867845332993          0            0         0          0   \n",
       "\n",
       "                                               media quotedTweet  \\\n",
       "0                                               None        None   \n",
       "1                                               None        None   \n",
       "2  [{'_type': 'snscrape.modules.twitter.Photo', '...        None   \n",
       "3                                               None        None   \n",
       "4                                               None        None   \n",
       "\n",
       "                                      mentionedUsers lang  \n",
       "0                                               None   en  \n",
       "1                                               None   en  \n",
       "2                                               None   en  \n",
       "3  [{'_type': 'snscrape.modules.twitter.User', 'u...   en  \n",
       "4  [{'_type': 'snscrape.modules.twitter.User', 'u...   es  "
      ]
     },
     "execution_count": 33,
     "metadata": {},
     "output_type": "execute_result"
    }
   ],
   "source": [
    "#clean\n",
    "cols = ['date', 'renderedContent', 'id', 'userId', 'replyCount', 'retweetCount', 'likeCount', 'quoteCount', 'media', 'quotedTweet', 'mentionedUsers', 'lang']\n",
    "tweets = df_users[cols]\n",
    "tweets.rename(columns={'id':'tweetId'}, inplace=True)\n",
    "tweets.head(5)"
   ]
  },
  {
   "cell_type": "code",
   "execution_count": 34,
   "id": "32ece53c",
   "metadata": {},
   "outputs": [
    {
     "name": "stdout",
     "output_type": "stream",
     "text": [
      "(3380, 12)\n"
     ]
    }
   ],
   "source": [
    "tweets=pd.DataFrame(tweets)\n",
    "tweets.drop_duplicates(subset=['tweetId'], inplace=True)\n",
    "print(tweets.shape)"
   ]
  },
  {
   "cell_type": "code",
   "execution_count": 40,
   "id": "e3ec21b2",
   "metadata": {},
   "outputs": [
    {
     "data": {
      "text/plain": [
       "date               datetime64[ns, UTC]\n",
       "renderedContent                 object\n",
       "tweetId                         object\n",
       "userId                           int64\n",
       "replyCount                      object\n",
       "retweetCount                    object\n",
       "likeCount                       object\n",
       "quoteCount                      object\n",
       "media                           object\n",
       "quotedTweet                     object\n",
       "mentionedUsers                  object\n",
       "lang                            object\n",
       "dtype: object"
      ]
     },
     "execution_count": 40,
     "metadata": {},
     "output_type": "execute_result"
    }
   ],
   "source": [
    "tweets.dtypes"
   ]
  },
  {
   "cell_type": "code",
   "execution_count": 36,
   "id": "42a570e0",
   "metadata": {},
   "outputs": [],
   "source": [
    "lang_codes = json.load( open( \"language_mapping.json\" ) )"
   ]
  },
  {
   "cell_type": "code",
   "execution_count": 37,
   "id": "e8c88e8e",
   "metadata": {},
   "outputs": [
    {
     "data": {
      "text/html": [
       "<div>\n",
       "<style scoped>\n",
       "    .dataframe tbody tr th:only-of-type {\n",
       "        vertical-align: middle;\n",
       "    }\n",
       "\n",
       "    .dataframe tbody tr th {\n",
       "        vertical-align: top;\n",
       "    }\n",
       "\n",
       "    .dataframe thead th {\n",
       "        text-align: right;\n",
       "    }\n",
       "</style>\n",
       "<table border=\"1\" class=\"dataframe\">\n",
       "  <thead>\n",
       "    <tr style=\"text-align: right;\">\n",
       "      <th></th>\n",
       "      <th>date</th>\n",
       "      <th>renderedContent</th>\n",
       "      <th>tweetId</th>\n",
       "      <th>userId</th>\n",
       "      <th>replyCount</th>\n",
       "      <th>retweetCount</th>\n",
       "      <th>likeCount</th>\n",
       "      <th>quoteCount</th>\n",
       "      <th>media</th>\n",
       "      <th>quotedTweet</th>\n",
       "      <th>mentionedUsers</th>\n",
       "      <th>lang</th>\n",
       "    </tr>\n",
       "  </thead>\n",
       "  <tbody>\n",
       "    <tr>\n",
       "      <th>0</th>\n",
       "      <td>2021-06-10 05:34:23+00:00</td>\n",
       "      <td>#btsdisband jin ebrio namjoon racist bts racis...</td>\n",
       "      <td>1402861683840884737</td>\n",
       "      <td>1402752139496202240</td>\n",
       "      <td>1</td>\n",
       "      <td>0</td>\n",
       "      <td>0</td>\n",
       "      <td>0</td>\n",
       "      <td>None</td>\n",
       "      <td>None</td>\n",
       "      <td>None</td>\n",
       "      <td>English</td>\n",
       "    </tr>\n",
       "    <tr>\n",
       "      <th>1</th>\n",
       "      <td>2021-06-10 05:27:35+00:00</td>\n",
       "      <td>yoongi racist\\nbts racist\\njimin ugly \\nyoongi...</td>\n",
       "      <td>1402859968886345734</td>\n",
       "      <td>1402850500173783043</td>\n",
       "      <td>0</td>\n",
       "      <td>0</td>\n",
       "      <td>0</td>\n",
       "      <td>0</td>\n",
       "      <td>None</td>\n",
       "      <td>None</td>\n",
       "      <td>None</td>\n",
       "      <td>English</td>\n",
       "    </tr>\n",
       "  </tbody>\n",
       "</table>\n",
       "</div>"
      ],
      "text/plain": [
       "                       date  \\\n",
       "0 2021-06-10 05:34:23+00:00   \n",
       "1 2021-06-10 05:27:35+00:00   \n",
       "\n",
       "                                     renderedContent              tweetId  \\\n",
       "0  #btsdisband jin ebrio namjoon racist bts racis...  1402861683840884737   \n",
       "1  yoongi racist\\nbts racist\\njimin ugly \\nyoongi...  1402859968886345734   \n",
       "\n",
       "                userId replyCount retweetCount likeCount quoteCount media  \\\n",
       "0  1402752139496202240          1            0         0          0  None   \n",
       "1  1402850500173783043          0            0         0          0  None   \n",
       "\n",
       "  quotedTweet mentionedUsers     lang  \n",
       "0        None           None  English  \n",
       "1        None           None  English  "
      ]
     },
     "execution_count": 37,
     "metadata": {},
     "output_type": "execute_result"
    }
   ],
   "source": [
    "tweets['lang'] = tweets['lang'].map(lang_codes)\n",
    "tweets.head(2)"
   ]
  },
  {
   "cell_type": "code",
   "execution_count": 38,
   "id": "27b92d15",
   "metadata": {},
   "outputs": [],
   "source": [
    "tweets.to_csv('snshashtags_tweets.csv',index=False)"
   ]
  },
  {
   "cell_type": "code",
   "execution_count": 41,
   "id": "c9ac07ad",
   "metadata": {},
   "outputs": [
    {
     "data": {
      "text/plain": [
       "array(['English', 'Spanish; Castilian', nan, 'Estonian', 'Indonesian',\n",
       "       'Finnish', 'Turkish', 'Thai', 'Korean', 'Polish', 'Portuguese',\n",
       "       'Catalan; Valencian', 'French', 'Tagalog', 'Italian', 'Vietnamese',\n",
       "       'Dutch', 'Arabic', 'Basque', 'Lithuanian', 'Romanian, Moldavan',\n",
       "       'Danish', 'Hungarian', 'Haitian', 'Slovene', 'Czech', 'Russian',\n",
       "       'Swedish', 'Norwegian', 'Hindi', 'Icelandic'], dtype=object)"
      ]
     },
     "execution_count": 41,
     "metadata": {},
     "output_type": "execute_result"
    }
   ],
   "source": [
    "tweets.lang.unique()"
   ]
  },
  {
   "cell_type": "code",
   "execution_count": 42,
   "id": "0bd5c757",
   "metadata": {},
   "outputs": [
    {
     "data": {
      "text/html": [
       "<div>\n",
       "<style scoped>\n",
       "    .dataframe tbody tr th:only-of-type {\n",
       "        vertical-align: middle;\n",
       "    }\n",
       "\n",
       "    .dataframe tbody tr th {\n",
       "        vertical-align: top;\n",
       "    }\n",
       "\n",
       "    .dataframe thead th {\n",
       "        text-align: right;\n",
       "    }\n",
       "</style>\n",
       "<table border=\"1\" class=\"dataframe\">\n",
       "  <thead>\n",
       "    <tr style=\"text-align: right;\">\n",
       "      <th></th>\n",
       "      <th>tweetId</th>\n",
       "    </tr>\n",
       "    <tr>\n",
       "      <th>lang</th>\n",
       "      <th></th>\n",
       "    </tr>\n",
       "  </thead>\n",
       "  <tbody>\n",
       "    <tr>\n",
       "      <th>English</th>\n",
       "      <td>1403</td>\n",
       "    </tr>\n",
       "    <tr>\n",
       "      <th>Spanish; Castilian</th>\n",
       "      <td>817</td>\n",
       "    </tr>\n",
       "    <tr>\n",
       "      <th>Korean</th>\n",
       "      <td>347</td>\n",
       "    </tr>\n",
       "    <tr>\n",
       "      <th>Indonesian</th>\n",
       "      <td>200</td>\n",
       "    </tr>\n",
       "    <tr>\n",
       "      <th>Romanian, Moldavan</th>\n",
       "      <td>105</td>\n",
       "    </tr>\n",
       "    <tr>\n",
       "      <th>Tagalog</th>\n",
       "      <td>61</td>\n",
       "    </tr>\n",
       "    <tr>\n",
       "      <th>Portuguese</th>\n",
       "      <td>37</td>\n",
       "    </tr>\n",
       "    <tr>\n",
       "      <th>Finnish</th>\n",
       "      <td>35</td>\n",
       "    </tr>\n",
       "    <tr>\n",
       "      <th>Estonian</th>\n",
       "      <td>20</td>\n",
       "    </tr>\n",
       "    <tr>\n",
       "      <th>Polish</th>\n",
       "      <td>19</td>\n",
       "    </tr>\n",
       "    <tr>\n",
       "      <th>Haitian</th>\n",
       "      <td>15</td>\n",
       "    </tr>\n",
       "    <tr>\n",
       "      <th>Italian</th>\n",
       "      <td>11</td>\n",
       "    </tr>\n",
       "    <tr>\n",
       "      <th>French</th>\n",
       "      <td>8</td>\n",
       "    </tr>\n",
       "    <tr>\n",
       "      <th>Hungarian</th>\n",
       "      <td>8</td>\n",
       "    </tr>\n",
       "    <tr>\n",
       "      <th>Czech</th>\n",
       "      <td>8</td>\n",
       "    </tr>\n",
       "    <tr>\n",
       "      <th>Dutch</th>\n",
       "      <td>6</td>\n",
       "    </tr>\n",
       "    <tr>\n",
       "      <th>Thai</th>\n",
       "      <td>4</td>\n",
       "    </tr>\n",
       "    <tr>\n",
       "      <th>Vietnamese</th>\n",
       "      <td>4</td>\n",
       "    </tr>\n",
       "    <tr>\n",
       "      <th>Lithuanian</th>\n",
       "      <td>4</td>\n",
       "    </tr>\n",
       "    <tr>\n",
       "      <th>Basque</th>\n",
       "      <td>4</td>\n",
       "    </tr>\n",
       "    <tr>\n",
       "      <th>Catalan; Valencian</th>\n",
       "      <td>4</td>\n",
       "    </tr>\n",
       "    <tr>\n",
       "      <th>Turkish</th>\n",
       "      <td>3</td>\n",
       "    </tr>\n",
       "    <tr>\n",
       "      <th>Norwegian</th>\n",
       "      <td>2</td>\n",
       "    </tr>\n",
       "    <tr>\n",
       "      <th>Icelandic</th>\n",
       "      <td>2</td>\n",
       "    </tr>\n",
       "    <tr>\n",
       "      <th>Russian</th>\n",
       "      <td>1</td>\n",
       "    </tr>\n",
       "    <tr>\n",
       "      <th>Slovene</th>\n",
       "      <td>1</td>\n",
       "    </tr>\n",
       "    <tr>\n",
       "      <th>Hindi</th>\n",
       "      <td>1</td>\n",
       "    </tr>\n",
       "    <tr>\n",
       "      <th>Swedish</th>\n",
       "      <td>1</td>\n",
       "    </tr>\n",
       "    <tr>\n",
       "      <th>Danish</th>\n",
       "      <td>1</td>\n",
       "    </tr>\n",
       "    <tr>\n",
       "      <th>Arabic</th>\n",
       "      <td>1</td>\n",
       "    </tr>\n",
       "  </tbody>\n",
       "</table>\n",
       "</div>"
      ],
      "text/plain": [
       "                    tweetId\n",
       "lang                       \n",
       "English                1403\n",
       "Spanish; Castilian      817\n",
       "Korean                  347\n",
       "Indonesian              200\n",
       "Romanian, Moldavan      105\n",
       "Tagalog                  61\n",
       "Portuguese               37\n",
       "Finnish                  35\n",
       "Estonian                 20\n",
       "Polish                   19\n",
       "Haitian                  15\n",
       "Italian                  11\n",
       "French                    8\n",
       "Hungarian                 8\n",
       "Czech                     8\n",
       "Dutch                     6\n",
       "Thai                      4\n",
       "Vietnamese                4\n",
       "Lithuanian                4\n",
       "Basque                    4\n",
       "Catalan; Valencian        4\n",
       "Turkish                   3\n",
       "Norwegian                 2\n",
       "Icelandic                 2\n",
       "Russian                   1\n",
       "Slovene                   1\n",
       "Hindi                     1\n",
       "Swedish                   1\n",
       "Danish                    1\n",
       "Arabic                    1"
      ]
     },
     "execution_count": 42,
     "metadata": {},
     "output_type": "execute_result"
    }
   ],
   "source": [
    "tweets[['tweetId','lang']].groupby('lang').count().sort_values(by=['tweetId'], ascending=False)"
   ]
  },
  {
   "cell_type": "code",
   "execution_count": 44,
   "id": "2422289c",
   "metadata": {},
   "outputs": [],
   "source": [
    "#df1 = tweets[['tweetId','lang']].groupby('lang').count().sort_values(by=['tweetId'], ascending=False)\n",
    "#df1.to_csv('stats.csv', index=False)"
   ]
  },
  {
   "cell_type": "code",
   "execution_count": null,
   "id": "b9596e44",
   "metadata": {},
   "outputs": [],
   "source": []
  }
 ],
 "metadata": {
  "kernelspec": {
   "display_name": "Python 3",
   "language": "python",
   "name": "python3"
  },
  "language_info": {
   "codemirror_mode": {
    "name": "ipython",
    "version": 3
   },
   "file_extension": ".py",
   "mimetype": "text/x-python",
   "name": "python",
   "nbconvert_exporter": "python",
   "pygments_lexer": "ipython3",
   "version": "3.9.4"
  }
 },
 "nbformat": 4,
 "nbformat_minor": 5
}
