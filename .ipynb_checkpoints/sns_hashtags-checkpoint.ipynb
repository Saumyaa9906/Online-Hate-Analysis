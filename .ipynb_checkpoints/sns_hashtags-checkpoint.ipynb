{
 "cells": [
  {
   "cell_type": "code",
   "execution_count": 1,
   "id": "f6e93f19",
   "metadata": {},
   "outputs": [],
   "source": [
    "import os\n",
    "import pandas as pd\n",
    "import numpy as np\n",
    "import glob"
   ]
  },
  {
   "cell_type": "code",
   "execution_count": 3,
   "id": "35982f82",
   "metadata": {},
   "outputs": [],
   "source": [
    "from pandas.io.json import json_normalize\n",
    "import warnings\n",
    "warnings.filterwarnings(\"ignore\")"
   ]
  },
  {
   "cell_type": "code",
   "execution_count": 4,
   "id": "37b34f02",
   "metadata": {},
   "outputs": [
    {
     "data": {
      "text/plain": [
       "0"
      ]
     },
     "execution_count": 4,
     "metadata": {},
     "output_type": "execute_result"
    }
   ],
   "source": [
    "os.system(\"snscrape --jsonl --max-results 500 twitter-hashtag 'nctdisband' > tag1.json\")"
   ]
  },
  {
   "cell_type": "code",
   "execution_count": 5,
   "id": "6ef2860e",
   "metadata": {},
   "outputs": [
    {
     "data": {
      "text/plain": [
       "0"
      ]
     },
     "execution_count": 5,
     "metadata": {},
     "output_type": "execute_result"
    }
   ],
   "source": [
    "os.system(\"snscrape --jsonl --max-results 500 twitter-hashtag 'btsdisband' > tag2.json\")"
   ]
  },
  {
   "cell_type": "code",
   "execution_count": 6,
   "id": "c1b63e63",
   "metadata": {},
   "outputs": [
    {
     "data": {
      "text/plain": [
       "0"
      ]
     },
     "execution_count": 6,
     "metadata": {},
     "output_type": "execute_result"
    }
   ],
   "source": [
    "os.system(\"snscrape --jsonl --max-results 500 twitter-hashtag 'jungkookcovid' > tag3.json\")"
   ]
  },
  {
   "cell_type": "code",
   "execution_count": 7,
   "id": "717f5da1",
   "metadata": {},
   "outputs": [
    {
     "data": {
      "text/plain": [
       "0"
      ]
     },
     "execution_count": 7,
     "metadata": {},
     "output_type": "execute_result"
    }
   ],
   "source": [
    "os.system(\"snscrape --jsonl --max-results 500 twitter-hashtag 'hyunjinbully' > tag4.json\")"
   ]
  },
  {
   "cell_type": "code",
   "execution_count": 8,
   "id": "1de793ff",
   "metadata": {},
   "outputs": [
    {
     "data": {
      "text/plain": [
       "0"
      ]
     },
     "execution_count": 8,
     "metadata": {},
     "output_type": "execute_result"
    }
   ],
   "source": [
    "os.system(\"snscrape --jsonl --max-results 500 twitter-hashtag 'jenniebully' > tag5.json\")\n",
    "os.system(\"snscrape --jsonl --max-results 500 twitter-hashtag 'jisungnword' > tag6.json\")\n",
    "os.system(\"snscrape --jsonl --max-results 500 twitter-hashtag 'loonadisband' > tag7.json\")"
   ]
  },
  {
   "cell_type": "code",
   "execution_count": 9,
   "id": "c13198f1",
   "metadata": {},
   "outputs": [
    {
     "data": {
      "text/plain": [
       "0"
      ]
     },
     "execution_count": 9,
     "metadata": {},
     "output_type": "execute_result"
    }
   ],
   "source": [
    "os.system(\"snscrape --jsonl --max-results 500 twitter-hashtag 'jinlazy' > tag8.json\")\n",
    "os.system(\"snscrape --jsonl --max-results 500 twitter-hashtag 'chuubully' > tag9.json\")\n",
    "os.system(\"snscrape --jsonl --max-results 500 twitter-hashtag 'namjoonracist' > tag10.json\")"
   ]
  },
  {
   "cell_type": "code",
   "execution_count": 10,
   "id": "ada9d661",
   "metadata": {},
   "outputs": [],
   "source": [
    "#merge json objects\n",
    "flag = 1\n",
    "for file in glob.glob(\"*.json\"):\n",
    "    df = pd.read_json(file, lines = True)\n",
    "    if flag == 1:\n",
    "        cols = df.columns\n",
    "        df_users = pd.DataFrame(columns = cols)\n",
    "        flag = 0\n",
    "    else:\n",
    "        df_users = pd.concat([df_users,df])"
   ]
  },
  {
   "cell_type": "code",
   "execution_count": 28,
   "id": "eee3db80",
   "metadata": {},
   "outputs": [
    {
     "name": "stdout",
     "output_type": "stream",
     "text": [
      "(4055, 29)\n"
     ]
    },
    {
     "data": {
      "text/html": [
       "<div>\n",
       "<style scoped>\n",
       "    .dataframe tbody tr th:only-of-type {\n",
       "        vertical-align: middle;\n",
       "    }\n",
       "\n",
       "    .dataframe tbody tr th {\n",
       "        vertical-align: top;\n",
       "    }\n",
       "\n",
       "    .dataframe thead th {\n",
       "        text-align: right;\n",
       "    }\n",
       "</style>\n",
       "<table border=\"1\" class=\"dataframe\">\n",
       "  <thead>\n",
       "    <tr style=\"text-align: right;\">\n",
       "      <th></th>\n",
       "      <th>_type</th>\n",
       "      <th>username</th>\n",
       "      <th>userId</th>\n",
       "      <th>displayname</th>\n",
       "      <th>rawDescription</th>\n",
       "      <th>descriptionUrls</th>\n",
       "      <th>verified</th>\n",
       "      <th>created</th>\n",
       "      <th>followersCount</th>\n",
       "      <th>friendsCount</th>\n",
       "      <th>statusesCount</th>\n",
       "      <th>favouritesCount</th>\n",
       "      <th>listedCount</th>\n",
       "      <th>mediaCount</th>\n",
       "      <th>location</th>\n",
       "      <th>protected</th>\n",
       "      <th>linkUrl</th>\n",
       "      <th>profileImageUrl</th>\n",
       "      <th>profileBannerUrl</th>\n",
       "      <th>profileUrl</th>\n",
       "    </tr>\n",
       "  </thead>\n",
       "  <tbody>\n",
       "    <tr>\n",
       "      <th>0</th>\n",
       "      <td>snscrape.modules.twitter.User</td>\n",
       "      <td>Kawaishu4</td>\n",
       "      <td>1342905354087256070</td>\n",
       "      <td>Kawaishu</td>\n",
       "      <td></td>\n",
       "      <td>None</td>\n",
       "      <td>False</td>\n",
       "      <td>2020-12-26T18:49:33+00:00</td>\n",
       "      <td>2</td>\n",
       "      <td>55</td>\n",
       "      <td>21</td>\n",
       "      <td>207</td>\n",
       "      <td>0</td>\n",
       "      <td>3</td>\n",
       "      <td></td>\n",
       "      <td>False</td>\n",
       "      <td>None</td>\n",
       "      <td>https://pbs.twimg.com/profile_images/139864847...</td>\n",
       "      <td>None</td>\n",
       "      <td>https://twitter.com/Kawaishu4</td>\n",
       "    </tr>\n",
       "    <tr>\n",
       "      <th>1</th>\n",
       "      <td>snscrape.modules.twitter.User</td>\n",
       "      <td>fernand99095753</td>\n",
       "      <td>1369669474400473095</td>\n",
       "      <td>(っ◔◡◔)っ Deborah</td>\n",
       "      <td>^•^</td>\n",
       "      <td>None</td>\n",
       "      <td>False</td>\n",
       "      <td>2021-03-10T15:21:43+00:00</td>\n",
       "      <td>0</td>\n",
       "      <td>11</td>\n",
       "      <td>10</td>\n",
       "      <td>17</td>\n",
       "      <td>0</td>\n",
       "      <td>6</td>\n",
       "      <td></td>\n",
       "      <td>False</td>\n",
       "      <td>None</td>\n",
       "      <td>https://pbs.twimg.com/profile_images/136967327...</td>\n",
       "      <td>https://pbs.twimg.com/profile_banners/13696694...</td>\n",
       "      <td>https://twitter.com/fernand99095753</td>\n",
       "    </tr>\n",
       "  </tbody>\n",
       "</table>\n",
       "</div>"
      ],
      "text/plain": [
       "                           _type         username               userId  \\\n",
       "0  snscrape.modules.twitter.User        Kawaishu4  1342905354087256070   \n",
       "1  snscrape.modules.twitter.User  fernand99095753  1369669474400473095   \n",
       "\n",
       "       displayname rawDescription descriptionUrls  verified  \\\n",
       "0         Kawaishu                           None     False   \n",
       "1  (っ◔◡◔)っ Deborah            ^•^            None     False   \n",
       "\n",
       "                     created  followersCount  friendsCount  statusesCount  \\\n",
       "0  2020-12-26T18:49:33+00:00               2            55             21   \n",
       "1  2021-03-10T15:21:43+00:00               0            11             10   \n",
       "\n",
       "   favouritesCount  listedCount  mediaCount location  protected linkUrl  \\\n",
       "0              207            0           3               False    None   \n",
       "1               17            0           6               False    None   \n",
       "\n",
       "                                     profileImageUrl  \\\n",
       "0  https://pbs.twimg.com/profile_images/139864847...   \n",
       "1  https://pbs.twimg.com/profile_images/136967327...   \n",
       "\n",
       "                                    profileBannerUrl  \\\n",
       "0                                               None   \n",
       "1  https://pbs.twimg.com/profile_banners/13696694...   \n",
       "\n",
       "                            profileUrl  \n",
       "0        https://twitter.com/Kawaishu4  \n",
       "1  https://twitter.com/fernand99095753  "
      ]
     },
     "execution_count": 28,
     "metadata": {},
     "output_type": "execute_result"
    }
   ],
   "source": [
    "#normalize user object\n",
    "print(df_users.shape)\n",
    "user = json_normalize(df_users['user'])\n",
    "user.drop(['description', 'linkTcourl'], axis=1, inplace=True)\n",
    "user.rename(columns={'id':'userId', 'url':'profileUrl'}, inplace=True)\n",
    "user.head(2)"
   ]
  },
  {
   "cell_type": "code",
   "execution_count": 29,
   "id": "d1ee1b8b",
   "metadata": {},
   "outputs": [
    {
     "data": {
      "text/html": [
       "<div>\n",
       "<style scoped>\n",
       "    .dataframe tbody tr th:only-of-type {\n",
       "        vertical-align: middle;\n",
       "    }\n",
       "\n",
       "    .dataframe tbody tr th {\n",
       "        vertical-align: top;\n",
       "    }\n",
       "\n",
       "    .dataframe thead th {\n",
       "        text-align: right;\n",
       "    }\n",
       "</style>\n",
       "<table border=\"1\" class=\"dataframe\">\n",
       "  <thead>\n",
       "    <tr style=\"text-align: right;\">\n",
       "      <th></th>\n",
       "      <th>_type</th>\n",
       "      <th>username</th>\n",
       "      <th>userId</th>\n",
       "      <th>displayname</th>\n",
       "      <th>rawDescription</th>\n",
       "      <th>descriptionUrls</th>\n",
       "      <th>verified</th>\n",
       "      <th>created</th>\n",
       "      <th>followersCount</th>\n",
       "      <th>friendsCount</th>\n",
       "      <th>statusesCount</th>\n",
       "      <th>favouritesCount</th>\n",
       "      <th>listedCount</th>\n",
       "      <th>mediaCount</th>\n",
       "      <th>location</th>\n",
       "      <th>protected</th>\n",
       "      <th>linkUrl</th>\n",
       "      <th>profileImageUrl</th>\n",
       "      <th>profileBannerUrl</th>\n",
       "      <th>profileUrl</th>\n",
       "    </tr>\n",
       "  </thead>\n",
       "  <tbody>\n",
       "    <tr>\n",
       "      <th>0</th>\n",
       "      <td>snscrape.modules.twitter.User</td>\n",
       "      <td>Kawaishu4</td>\n",
       "      <td>1342905354087256070</td>\n",
       "      <td>Kawaishu</td>\n",
       "      <td></td>\n",
       "      <td>None</td>\n",
       "      <td>False</td>\n",
       "      <td>2020-12-26T18:49:33+00:00</td>\n",
       "      <td>2</td>\n",
       "      <td>55</td>\n",
       "      <td>21</td>\n",
       "      <td>207</td>\n",
       "      <td>0</td>\n",
       "      <td>3</td>\n",
       "      <td></td>\n",
       "      <td>False</td>\n",
       "      <td>None</td>\n",
       "      <td>https://pbs.twimg.com/profile_images/139864847...</td>\n",
       "      <td>None</td>\n",
       "      <td>https://twitter.com/Kawaishu4</td>\n",
       "    </tr>\n",
       "    <tr>\n",
       "      <th>1</th>\n",
       "      <td>snscrape.modules.twitter.User</td>\n",
       "      <td>fernand99095753</td>\n",
       "      <td>1369669474400473095</td>\n",
       "      <td>(っ◔◡◔)っ Deborah</td>\n",
       "      <td>^•^</td>\n",
       "      <td>None</td>\n",
       "      <td>False</td>\n",
       "      <td>2021-03-10T15:21:43+00:00</td>\n",
       "      <td>0</td>\n",
       "      <td>11</td>\n",
       "      <td>10</td>\n",
       "      <td>17</td>\n",
       "      <td>0</td>\n",
       "      <td>6</td>\n",
       "      <td></td>\n",
       "      <td>False</td>\n",
       "      <td>None</td>\n",
       "      <td>https://pbs.twimg.com/profile_images/136967327...</td>\n",
       "      <td>https://pbs.twimg.com/profile_banners/13696694...</td>\n",
       "      <td>https://twitter.com/fernand99095753</td>\n",
       "    </tr>\n",
       "  </tbody>\n",
       "</table>\n",
       "</div>"
      ],
      "text/plain": [
       "                           _type         username               userId  \\\n",
       "0  snscrape.modules.twitter.User        Kawaishu4  1342905354087256070   \n",
       "1  snscrape.modules.twitter.User  fernand99095753  1369669474400473095   \n",
       "\n",
       "       displayname rawDescription descriptionUrls  verified  \\\n",
       "0         Kawaishu                           None     False   \n",
       "1  (っ◔◡◔)っ Deborah            ^•^            None     False   \n",
       "\n",
       "                     created  followersCount  friendsCount  statusesCount  \\\n",
       "0  2020-12-26T18:49:33+00:00               2            55             21   \n",
       "1  2021-03-10T15:21:43+00:00               0            11             10   \n",
       "\n",
       "   favouritesCount  listedCount  mediaCount location  protected linkUrl  \\\n",
       "0              207            0           3               False    None   \n",
       "1               17            0           6               False    None   \n",
       "\n",
       "                                     profileImageUrl  \\\n",
       "0  https://pbs.twimg.com/profile_images/139864847...   \n",
       "1  https://pbs.twimg.com/profile_images/136967327...   \n",
       "\n",
       "                                    profileBannerUrl  \\\n",
       "0                                               None   \n",
       "1  https://pbs.twimg.com/profile_banners/13696694...   \n",
       "\n",
       "                            profileUrl  \n",
       "0        https://twitter.com/Kawaishu4  \n",
       "1  https://twitter.com/fernand99095753  "
      ]
     },
     "execution_count": 29,
     "metadata": {},
     "output_type": "execute_result"
    }
   ],
   "source": [
    "#drop duplicates\n",
    "user = pd.DataFrame(user)\n",
    "user.drop_duplicates(subset=['userId'], inplace=True)\n",
    "user.head(2)"
   ]
  },
  {
   "cell_type": "code",
   "execution_count": 30,
   "id": "89ea1f53",
   "metadata": {},
   "outputs": [],
   "source": [
    "user_cols = ['username', 'displayname', 'userId','rawDescription','verified','created','followersCount',\n",
    "       'friendsCount', 'statusesCount', 'favouritesCount', 'listedCount',\n",
    "       'mediaCount', 'location']"
   ]
  },
  {
   "cell_type": "code",
   "execution_count": 31,
   "id": "1bf8b7f2",
   "metadata": {},
   "outputs": [
    {
     "data": {
      "text/html": [
       "<div>\n",
       "<style scoped>\n",
       "    .dataframe tbody tr th:only-of-type {\n",
       "        vertical-align: middle;\n",
       "    }\n",
       "\n",
       "    .dataframe tbody tr th {\n",
       "        vertical-align: top;\n",
       "    }\n",
       "\n",
       "    .dataframe thead th {\n",
       "        text-align: right;\n",
       "    }\n",
       "</style>\n",
       "<table border=\"1\" class=\"dataframe\">\n",
       "  <thead>\n",
       "    <tr style=\"text-align: right;\">\n",
       "      <th></th>\n",
       "      <th>username</th>\n",
       "      <th>displayname</th>\n",
       "      <th>userId</th>\n",
       "      <th>rawDescription</th>\n",
       "      <th>verified</th>\n",
       "      <th>created</th>\n",
       "      <th>followersCount</th>\n",
       "      <th>friendsCount</th>\n",
       "      <th>statusesCount</th>\n",
       "      <th>favouritesCount</th>\n",
       "      <th>listedCount</th>\n",
       "      <th>mediaCount</th>\n",
       "      <th>location</th>\n",
       "    </tr>\n",
       "  </thead>\n",
       "  <tbody>\n",
       "    <tr>\n",
       "      <th>0</th>\n",
       "      <td>Kawaishu4</td>\n",
       "      <td>Kawaishu</td>\n",
       "      <td>1342905354087256070</td>\n",
       "      <td></td>\n",
       "      <td>False</td>\n",
       "      <td>2020-12-26T18:49:33+00:00</td>\n",
       "      <td>2</td>\n",
       "      <td>55</td>\n",
       "      <td>21</td>\n",
       "      <td>207</td>\n",
       "      <td>0</td>\n",
       "      <td>3</td>\n",
       "      <td></td>\n",
       "    </tr>\n",
       "    <tr>\n",
       "      <th>1</th>\n",
       "      <td>fernand99095753</td>\n",
       "      <td>(っ◔◡◔)っ Deborah</td>\n",
       "      <td>1369669474400473095</td>\n",
       "      <td>^•^</td>\n",
       "      <td>False</td>\n",
       "      <td>2021-03-10T15:21:43+00:00</td>\n",
       "      <td>0</td>\n",
       "      <td>11</td>\n",
       "      <td>10</td>\n",
       "      <td>17</td>\n",
       "      <td>0</td>\n",
       "      <td>6</td>\n",
       "      <td></td>\n",
       "    </tr>\n",
       "  </tbody>\n",
       "</table>\n",
       "</div>"
      ],
      "text/plain": [
       "          username      displayname               userId rawDescription  \\\n",
       "0        Kawaishu4         Kawaishu  1342905354087256070                  \n",
       "1  fernand99095753  (っ◔◡◔)っ Deborah  1369669474400473095            ^•^   \n",
       "\n",
       "   verified                    created  followersCount  friendsCount  \\\n",
       "0     False  2020-12-26T18:49:33+00:00               2            55   \n",
       "1     False  2021-03-10T15:21:43+00:00               0            11   \n",
       "\n",
       "   statusesCount  favouritesCount  listedCount  mediaCount location  \n",
       "0             21              207            0           3           \n",
       "1             10               17            0           6           "
      ]
     },
     "execution_count": 31,
     "metadata": {},
     "output_type": "execute_result"
    }
   ],
   "source": [
    "tweet_users = user[user_cols]\n",
    "tweet_users.head(2)"
   ]
  },
  {
   "cell_type": "code",
   "execution_count": 34,
   "id": "c529246f",
   "metadata": {},
   "outputs": [
    {
     "data": {
      "text/plain": [
       "(1439, 13)"
      ]
     },
     "execution_count": 34,
     "metadata": {},
     "output_type": "execute_result"
    }
   ],
   "source": [
    "tweet_users.shape"
   ]
  },
  {
   "cell_type": "code",
   "execution_count": 35,
   "id": "899c01c9",
   "metadata": {},
   "outputs": [],
   "source": [
    "tweet_users.to_csv('snshashtags_users.csv')"
   ]
  },
  {
   "cell_type": "code",
   "execution_count": 37,
   "id": "ab61752f",
   "metadata": {},
   "outputs": [],
   "source": [
    "#add userid col\n",
    "user_id = []\n",
    "for user in df_users['user']:\n",
    "    uid = user['id']\n",
    "    user_id.append(uid)\n",
    "df_users['userId'] = user_id"
   ]
  },
  {
   "cell_type": "code",
   "execution_count": 38,
   "id": "17e292d2",
   "metadata": {},
   "outputs": [
    {
     "data": {
      "text/html": [
       "<div>\n",
       "<style scoped>\n",
       "    .dataframe tbody tr th:only-of-type {\n",
       "        vertical-align: middle;\n",
       "    }\n",
       "\n",
       "    .dataframe tbody tr th {\n",
       "        vertical-align: top;\n",
       "    }\n",
       "\n",
       "    .dataframe thead th {\n",
       "        text-align: right;\n",
       "    }\n",
       "</style>\n",
       "<table border=\"1\" class=\"dataframe\">\n",
       "  <thead>\n",
       "    <tr style=\"text-align: right;\">\n",
       "      <th></th>\n",
       "      <th>date</th>\n",
       "      <th>renderedContent</th>\n",
       "      <th>tweetId</th>\n",
       "      <th>userId</th>\n",
       "      <th>replyCount</th>\n",
       "      <th>retweetCount</th>\n",
       "      <th>likeCount</th>\n",
       "      <th>quoteCount</th>\n",
       "      <th>media</th>\n",
       "      <th>quotedTweet</th>\n",
       "      <th>mentionedUsers</th>\n",
       "      <th>lang</th>\n",
       "    </tr>\n",
       "  </thead>\n",
       "  <tbody>\n",
       "    <tr>\n",
       "      <th>0</th>\n",
       "      <td>2021-05-29 14:31:06+00:00</td>\n",
       "      <td>Оh, idk... #art #myself #nctdisband https://t....</td>\n",
       "      <td>1398648098625306628</td>\n",
       "      <td>1342905354087256070</td>\n",
       "      <td>0</td>\n",
       "      <td>0</td>\n",
       "      <td>0</td>\n",
       "      <td>0</td>\n",
       "      <td>[{'_type': 'snscrape.modules.twitter.Photo', '...</td>\n",
       "      <td>None</td>\n",
       "      <td>None</td>\n",
       "      <td>und</td>\n",
       "    </tr>\n",
       "    <tr>\n",
       "      <th>1</th>\n",
       "      <td>2021-05-29 13:59:58+00:00</td>\n",
       "      <td>te quiero aquí #NintendoEnWorten #TeAlquiloDiv...</td>\n",
       "      <td>1398640263581609987</td>\n",
       "      <td>1369669474400473095</td>\n",
       "      <td>0</td>\n",
       "      <td>0</td>\n",
       "      <td>1</td>\n",
       "      <td>0</td>\n",
       "      <td>[{'_type': 'snscrape.modules.twitter.Photo', '...</td>\n",
       "      <td>None</td>\n",
       "      <td>None</td>\n",
       "      <td>es</td>\n",
       "    </tr>\n",
       "    <tr>\n",
       "      <th>2</th>\n",
       "      <td>2021-05-29 13:44:30+00:00</td>\n",
       "      <td>no les pasa que taeyong bully y taeyong incest...</td>\n",
       "      <td>1398636367974912000</td>\n",
       "      <td>1392502811867369474</td>\n",
       "      <td>1</td>\n",
       "      <td>0</td>\n",
       "      <td>0</td>\n",
       "      <td>0</td>\n",
       "      <td>None</td>\n",
       "      <td>None</td>\n",
       "      <td>None</td>\n",
       "      <td>es</td>\n",
       "    </tr>\n",
       "    <tr>\n",
       "      <th>3</th>\n",
       "      <td>2021-05-29 13:38:51+00:00</td>\n",
       "      <td>#nctdisband jaehyun n word jisung ugly nct flo...</td>\n",
       "      <td>1398634946730790912</td>\n",
       "      <td>1392502811867369474</td>\n",
       "      <td>1</td>\n",
       "      <td>0</td>\n",
       "      <td>0</td>\n",
       "      <td>0</td>\n",
       "      <td>None</td>\n",
       "      <td>None</td>\n",
       "      <td>None</td>\n",
       "      <td>en</td>\n",
       "    </tr>\n",
       "    <tr>\n",
       "      <th>4</th>\n",
       "      <td>2021-05-29 13:37:34+00:00</td>\n",
       "      <td>@makkosaki #nctdisband jaehyun n word jisung u...</td>\n",
       "      <td>1398634625849831425</td>\n",
       "      <td>1392502811867369474</td>\n",
       "      <td>0</td>\n",
       "      <td>0</td>\n",
       "      <td>0</td>\n",
       "      <td>0</td>\n",
       "      <td>None</td>\n",
       "      <td>None</td>\n",
       "      <td>[{'_type': 'snscrape.modules.twitter.User', 'u...</td>\n",
       "      <td>en</td>\n",
       "    </tr>\n",
       "  </tbody>\n",
       "</table>\n",
       "</div>"
      ],
      "text/plain": [
       "                       date  \\\n",
       "0 2021-05-29 14:31:06+00:00   \n",
       "1 2021-05-29 13:59:58+00:00   \n",
       "2 2021-05-29 13:44:30+00:00   \n",
       "3 2021-05-29 13:38:51+00:00   \n",
       "4 2021-05-29 13:37:34+00:00   \n",
       "\n",
       "                                     renderedContent              tweetId  \\\n",
       "0  Оh, idk... #art #myself #nctdisband https://t....  1398648098625306628   \n",
       "1  te quiero aquí #NintendoEnWorten #TeAlquiloDiv...  1398640263581609987   \n",
       "2  no les pasa que taeyong bully y taeyong incest...  1398636367974912000   \n",
       "3  #nctdisband jaehyun n word jisung ugly nct flo...  1398634946730790912   \n",
       "4  @makkosaki #nctdisband jaehyun n word jisung u...  1398634625849831425   \n",
       "\n",
       "                userId replyCount retweetCount likeCount quoteCount  \\\n",
       "0  1342905354087256070          0            0         0          0   \n",
       "1  1369669474400473095          0            0         1          0   \n",
       "2  1392502811867369474          1            0         0          0   \n",
       "3  1392502811867369474          1            0         0          0   \n",
       "4  1392502811867369474          0            0         0          0   \n",
       "\n",
       "                                               media quotedTweet  \\\n",
       "0  [{'_type': 'snscrape.modules.twitter.Photo', '...        None   \n",
       "1  [{'_type': 'snscrape.modules.twitter.Photo', '...        None   \n",
       "2                                               None        None   \n",
       "3                                               None        None   \n",
       "4                                               None        None   \n",
       "\n",
       "                                      mentionedUsers lang  \n",
       "0                                               None  und  \n",
       "1                                               None   es  \n",
       "2                                               None   es  \n",
       "3                                               None   en  \n",
       "4  [{'_type': 'snscrape.modules.twitter.User', 'u...   en  "
      ]
     },
     "execution_count": 38,
     "metadata": {},
     "output_type": "execute_result"
    }
   ],
   "source": [
    "#clean\n",
    "cols = ['date', 'renderedContent', 'id', 'userId', 'replyCount', 'retweetCount', 'likeCount', 'quoteCount', 'media', 'quotedTweet', 'mentionedUsers', 'lang']\n",
    "tweets = df_users[cols]\n",
    "tweets.rename(columns={'id':'tweetId'}, inplace=True)\n",
    "tweets.head(5)"
   ]
  },
  {
   "cell_type": "code",
   "execution_count": 39,
   "id": "32ece53c",
   "metadata": {},
   "outputs": [
    {
     "name": "stdout",
     "output_type": "stream",
     "text": [
      "(3919, 12)\n"
     ]
    }
   ],
   "source": [
    "tweets=pd.DataFrame(tweets)\n",
    "tweets.drop_duplicates(subset=['tweetId'], inplace=True)\n",
    "print(tweets.shape)"
   ]
  },
  {
   "cell_type": "code",
   "execution_count": 40,
   "id": "08cf5fc1",
   "metadata": {},
   "outputs": [],
   "source": [
    "tweets.to_csv('snshashtags_tweets.csv')"
   ]
  },
  {
   "cell_type": "code",
   "execution_count": null,
   "id": "741223d0",
   "metadata": {},
   "outputs": [],
   "source": []
  }
 ],
 "metadata": {
  "kernelspec": {
   "display_name": "Python 3",
   "language": "python",
   "name": "python3"
  },
  "language_info": {
   "codemirror_mode": {
    "name": "ipython",
    "version": 3
   },
   "file_extension": ".py",
   "mimetype": "text/x-python",
   "name": "python",
   "nbconvert_exporter": "python",
   "pygments_lexer": "ipython3",
   "version": "3.9.4"
  }
 },
 "nbformat": 4,
 "nbformat_minor": 5
}
